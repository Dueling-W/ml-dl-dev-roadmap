{
 "cells": [
  {
   "cell_type": "markdown",
   "id": "a43aea47",
   "metadata": {},
   "source": [
    "### Notebook Topic: Python Basics Crash Course\n",
    "### Video Lecture: [Python in 75 Minutes](https://www.youtube.com/watch?v=VchuKL44s6E&t=94s)\n",
    "### Date Created: October 1st, 2025"
   ]
  },
  {
   "cell_type": "markdown",
   "id": "d7720bdb",
   "metadata": {
    "vscode": {
     "languageId": "plaintext"
    }
   },
   "source": [
    "#### Core Datatypes"
   ]
  },
  {
   "cell_type": "code",
   "execution_count": 2,
   "id": "819bab30",
   "metadata": {},
   "outputs": [],
   "source": [
    "# Data Types\n",
    "\n",
    "# int --> whole numbers\n",
    "val1 = -267236\n",
    "val2 = 76373\n",
    "\n",
    "# float --> any number with decimals \n",
    "float1 = 2727.0\n",
    "float2 = 3.14159\n",
    "\n",
    "# string --> enclosed in quotes (single or double)\n",
    "string1 = 'abc'\n",
    "string2 = \"hello world\"\n",
    "\n",
    "# can wrap quotes with the opposite quote type\n",
    "string1a = \"'abc'\"\n",
    "string2a = '\"abc\"'\n",
    "\n",
    "# bool --> only two values\n",
    "my_bool = True\n",
    "my_bool_2 = False\n"
   ]
  },
  {
   "cell_type": "markdown",
   "id": "6c417d63",
   "metadata": {},
   "source": [
    "#### Output and Printing"
   ]
  },
  {
   "cell_type": "code",
   "execution_count": 3,
   "id": "4f4e19e0",
   "metadata": {},
   "outputs": [
    {
     "name": "stdout",
     "output_type": "stream",
     "text": [
      "hello world\n",
      "4.5 hello\n",
      "hello world 87|hello world 87\n"
     ]
    }
   ],
   "source": [
    "print('hello world')\n",
    "\n",
    "# by default, places a space in-between\n",
    "print('4.5', 'hello')\n",
    "\n",
    "# denote ending\n",
    "print('hello', 'world', 87, end='|')\n",
    "\n",
    "# default is \\n, which is the next line\n",
    "print('hello', 'world', 87, end = '\\n')"
   ]
  },
  {
   "cell_type": "markdown",
   "id": "e21ef7af",
   "metadata": {},
   "source": [
    "#### Variables"
   ]
  },
  {
   "cell_type": "code",
   "execution_count": 4,
   "id": "3d8c3a23",
   "metadata": {},
   "outputs": [
    {
     "name": "stdout",
     "output_type": "stream",
     "text": [
      "will world\n",
      "no will\n"
     ]
    }
   ],
   "source": [
    "# define variables here\n",
    "hello = 'will'\n",
    "world = 'world'\n",
    "\n",
    "# program follows sequential order\n",
    "print(hello, world)\n",
    "world = hello\n",
    "hello = 'no'\n",
    "print(hello, world)"
   ]
  },
  {
   "cell_type": "code",
   "execution_count": 5,
   "id": "50cd3d08",
   "metadata": {},
   "outputs": [
    {
     "ename": "SyntaxError",
     "evalue": "invalid decimal literal (154156061.py, line 2)",
     "output_type": "error",
     "traceback": [
      "  \u001b[36mCell\u001b[39m\u001b[36m \u001b[39m\u001b[32mIn[5]\u001b[39m\u001b[32m, line 2\u001b[39m\n\u001b[31m    \u001b[39m\u001b[31m9hello #<--- this will throw an error\u001b[39m\n    ^\n\u001b[31mSyntaxError\u001b[39m\u001b[31m:\u001b[39m invalid decimal literal\n"
     ]
    }
   ],
   "source": [
    "# no special symbols (besides underscore), cannot start with a number\n",
    "9hello #<--- this will throw an error"
   ]
  },
  {
   "cell_type": "code",
   "execution_count": 6,
   "id": "db12d5ae",
   "metadata": {},
   "outputs": [],
   "source": [
    "# follow snake case, not camel case\n",
    "do_this = 5 # snake\n",
    "notThis = 5 # camel"
   ]
  },
  {
   "cell_type": "markdown",
   "id": "0bdd0094",
   "metadata": {},
   "source": [
    "#### Getting User Input"
   ]
  },
  {
   "cell_type": "code",
   "execution_count": 7,
   "id": "7511af42",
   "metadata": {},
   "outputs": [
    {
     "data": {
      "text/plain": [
       "'Will'"
      ]
     },
     "execution_count": 7,
     "metadata": {},
     "output_type": "execute_result"
    }
   ],
   "source": [
    "# must be a string in the prompt\n",
    "\n",
    "input('Name: ') # important to add the space after the colon"
   ]
  },
  {
   "cell_type": "code",
   "execution_count": 8,
   "id": "fa7badac",
   "metadata": {},
   "outputs": [
    {
     "name": "stdout",
     "output_type": "stream",
     "text": [
      "Bob\n"
     ]
    }
   ],
   "source": [
    "# store the input\n",
    "name = input('Name: ')\n",
    "print(name)"
   ]
  },
  {
   "cell_type": "markdown",
   "id": "75301633",
   "metadata": {},
   "source": [
    "#### Arithematic Operations"
   ]
  },
  {
   "cell_type": "code",
   "execution_count": 9,
   "id": "fdcba1cb",
   "metadata": {},
   "outputs": [
    {
     "name": "stdout",
     "output_type": "stream",
     "text": [
      "12.2\n",
      "28.8\n",
      "5.8\n",
      "2.8125\n"
     ]
    }
   ],
   "source": [
    "x = 9\n",
    "y = 3.2\n",
    "result = x+y\n",
    "print(result)\n",
    "result = x*y\n",
    "print(result)\n",
    "result = x-y\n",
    "print(result)\n",
    "result = x/y\n",
    "print(result)"
   ]
  },
  {
   "cell_type": "code",
   "execution_count": 10,
   "id": "e7795845",
   "metadata": {},
   "outputs": [
    {
     "name": "stdout",
     "output_type": "stream",
     "text": [
      "729\n",
      "Floor result 3 Float result 3.3333333333333335\n",
      "1\n"
     ]
    }
   ],
   "source": [
    "# exponents\n",
    "result = 9**3\n",
    "print(result)\n",
    "\n",
    "# floor division (gives the integer result of whatever the result is)\n",
    "# if answer = 3.888, then it will be 3\n",
    "result = 10//3\n",
    "print('Floor result', result, 'Float result', 10/3)\n",
    "\n",
    "# modulus (remainder)\n",
    "# 10 % 3 would be 1, since 3*3 = 9, 10-9 = 1\n",
    "print(10%3)"
   ]
  },
  {
   "cell_type": "code",
   "execution_count": 11,
   "id": "de133993",
   "metadata": {},
   "outputs": [
    {
     "ename": "TypeError",
     "evalue": "unsupported operand type(s) for -: 'str' and 'int'",
     "output_type": "error",
     "traceback": [
      "\u001b[31m---------------------------------------------------------------------------\u001b[39m",
      "\u001b[31mTypeError\u001b[39m                                 Traceback (most recent call last)",
      "\u001b[36mCell\u001b[39m\u001b[36m \u001b[39m\u001b[32mIn[11]\u001b[39m\u001b[32m, line 3\u001b[39m\n\u001b[32m      1\u001b[39m \u001b[38;5;66;03m# observe error here, input always returns a string\u001b[39;00m\n\u001b[32m      2\u001b[39m num = \u001b[38;5;28minput\u001b[39m(\u001b[33m'\u001b[39m\u001b[33mNumber: \u001b[39m\u001b[33m'\u001b[39m) \u001b[38;5;66;03m# --> str \u001b[39;00m\n\u001b[32m----> \u001b[39m\u001b[32m3\u001b[39m \u001b[38;5;28mprint\u001b[39m(\u001b[43mnum\u001b[49m\u001b[43m \u001b[49m\u001b[43m-\u001b[49m\u001b[43m \u001b[49m\u001b[32;43m5\u001b[39;49m)\n",
      "\u001b[31mTypeError\u001b[39m: unsupported operand type(s) for -: 'str' and 'int'"
     ]
    }
   ],
   "source": [
    "# observe error here, input always returns a string\n",
    "num = input('Number: ') # --> str \n",
    "print(num - 5)"
   ]
  },
  {
   "cell_type": "code",
   "execution_count": 12,
   "id": "d8fadc19",
   "metadata": {},
   "outputs": [
    {
     "name": "stdout",
     "output_type": "stream",
     "text": [
      "45\n",
      "45.0\n"
     ]
    }
   ],
   "source": [
    "# instead use int() to convert\n",
    "num = input('Number: ') # --> str \n",
    "print(int(num)-5)\n",
    "\n",
    "# float also works\n",
    "num = input('Number: ') # --> str \n",
    "print(float(num)-5)"
   ]
  },
  {
   "cell_type": "markdown",
   "id": "37bb5dcd",
   "metadata": {},
   "source": [
    "#### String Methods"
   ]
  },
  {
   "cell_type": "code",
   "execution_count": 13,
   "id": "67839760",
   "metadata": {},
   "outputs": [
    {
     "name": "stdout",
     "output_type": "stream",
     "text": [
      "HELLO\n",
      "HELLO\n",
      "hello\n",
      "Hello world\n",
      "2\n"
     ]
    }
   ],
   "source": [
    "hello = 'hello'.upper()\n",
    "print(hello)\n",
    "\n",
    "# also equivalent\n",
    "hello = 'hello'\n",
    "print(hello.upper())\n",
    "\n",
    "# lower\n",
    "hello = 'HELLO'.lower()\n",
    "print(hello)\n",
    "\n",
    "# capital\n",
    "hello = 'hEllo WorLd'\n",
    "print(hello.capitalize())\n",
    "\n",
    "# count\n",
    "hello = 'hello world'\n",
    "print(hello.count('o'))"
   ]
  },
  {
   "cell_type": "code",
   "execution_count": 14,
   "id": "8fd59fdc",
   "metadata": {},
   "outputs": [
    {
     "name": "stdout",
     "output_type": "stream",
     "text": [
      "hellohellohello\n",
      "helloyes\n"
     ]
    }
   ],
   "source": [
    "# string operations\n",
    "\n",
    "x = 'hello'\n",
    "y = 3\n",
    "print(x * y)\n",
    "\n",
    "y = 'yes' \n",
    "print(x+y) # concatenation\n"
   ]
  },
  {
   "cell_type": "markdown",
   "id": "a48f0eb8",
   "metadata": {},
   "source": [
    "#### Conditions and Conditional Operators"
   ]
  },
  {
   "cell_type": "code",
   "execution_count": 15,
   "id": "43330dc8",
   "metadata": {},
   "outputs": [
    {
     "data": {
      "text/plain": [
       "' Operators:\\n== # equality\\n!= # not equal to\\n<= # less than or equal to\\n>= # greater than or equal to \\n< # less than\\n> # greater than\\n'"
      ]
     },
     "execution_count": 15,
     "metadata": {},
     "output_type": "execute_result"
    }
   ],
   "source": [
    "True\n",
    "False\n",
    "\n",
    "\"\"\" Operators:\n",
    "== # equality\n",
    "!= # not equal to\n",
    "<= # less than or equal to\n",
    ">= # greater than or equal to \n",
    "< # less than\n",
    "> # greater than\n",
    "\"\"\""
   ]
  },
  {
   "cell_type": "code",
   "execution_count": 16,
   "id": "e3d99c65",
   "metadata": {},
   "outputs": [
    {
     "name": "stdout",
     "output_type": "stream",
     "text": [
      "True\n",
      "False\n"
     ]
    }
   ],
   "source": [
    "x = 'hello'\n",
    "y = 'hello' \n",
    "\n",
    "print(x==y)\n",
    "print(x!=y)"
   ]
  },
  {
   "cell_type": "code",
   "execution_count": 17,
   "id": "9a0f3094",
   "metadata": {},
   "outputs": [
    {
     "name": "stdout",
     "output_type": "stream",
     "text": [
      "True\n",
      "97\n",
      "90\n"
     ]
    }
   ],
   "source": [
    "# comparing strings\n",
    "\n",
    "print('a' > 'Z') \n",
    "\n",
    "# why is this true? its because of ordinal values in ASCII code\n",
    "print(ord('a'))\n",
    "print(ord('Z'))"
   ]
  },
  {
   "cell_type": "code",
   "execution_count": 18,
   "id": "d9fed06b",
   "metadata": {},
   "outputs": [
    {
     "name": "stdout",
     "output_type": "stream",
     "text": [
      "True\n"
     ]
    }
   ],
   "source": [
    "print(7.0 == 7)"
   ]
  },
  {
   "cell_type": "markdown",
   "id": "cfffc828",
   "metadata": {},
   "source": [
    "#### Chained Conditionals"
   ]
  },
  {
   "cell_type": "code",
   "execution_count": 19,
   "id": "733269a1",
   "metadata": {},
   "outputs": [
    {
     "name": "stdout",
     "output_type": "stream",
     "text": [
      "True\n",
      "False\n",
      "False\n",
      "True\n"
     ]
    }
   ],
   "source": [
    "x = 7\n",
    "y = 8\n",
    "z = 0\n",
    "\n",
    "\n",
    "result1 = x == y\n",
    "result2 = y > x \n",
    "result3 = z - 2 < x + 2 # evaluates on each side\n",
    "\n",
    "# can use and, or, not to chain conditionals\n",
    "result4 = result1 or result2 # only false if both false \n",
    "print(result4)\n",
    "\n",
    "# using not keyword\n",
    "print(not True)\n",
    "print(not (False or True)) # True turned to False\n",
    "print(not (False and True)) # False turned to True"
   ]
  },
  {
   "cell_type": "markdown",
   "id": "858b7a17",
   "metadata": {},
   "source": [
    "**Order of Operations**\n",
    "\n",
    "1. not\n",
    "2. and\n",
    "3. or"
   ]
  },
  {
   "cell_type": "code",
   "execution_count": 20,
   "id": "bf3e908b",
   "metadata": {},
   "outputs": [
    {
     "name": "stdout",
     "output_type": "stream",
     "text": [
      "False\n"
     ]
    }
   ],
   "source": [
    "# evaluate the 'and' first, then the or\n",
    "print(not (False and True or True))"
   ]
  },
  {
   "cell_type": "markdown",
   "id": "a2b3b3b6",
   "metadata": {},
   "source": [
    "#### If Else Else If"
   ]
  },
  {
   "cell_type": "code",
   "execution_count": 21,
   "id": "43aacb15",
   "metadata": {},
   "outputs": [
    {
     "name": "stdout",
     "output_type": "stream",
     "text": [
      "Hello Will\n",
      "Do this last\n"
     ]
    }
   ],
   "source": [
    "x = input('Name: ')\n",
    "\n",
    "if x == 'Will':\n",
    "    print(f'Hello {x}')\n",
    "else:\n",
    "    print('No')\n",
    "\n",
    "print('Do this last')"
   ]
  },
  {
   "cell_type": "code",
   "execution_count": 22,
   "id": "13e115bb",
   "metadata": {},
   "outputs": [
    {
     "name": "stdout",
     "output_type": "stream",
     "text": [
      "Hi Tim\n"
     ]
    }
   ],
   "source": [
    "x = input('Name: ')\n",
    "\n",
    "if x == 'Tim':\n",
    "    print('Hi Tim')\n",
    "elif x == 'Will':\n",
    "    print('Hi Will')\n",
    "else:\n",
    "    print('not valid')\n",
    "\n",
    "# always one if, one else, as many else ifs as you want"
   ]
  },
  {
   "cell_type": "markdown",
   "id": "b5d08b87",
   "metadata": {},
   "source": [
    "#### Lists and Tuples"
   ]
  },
  {
   "cell_type": "code",
   "execution_count": 23,
   "id": "aac95d2a",
   "metadata": {},
   "outputs": [
    {
     "name": "stdout",
     "output_type": "stream",
     "text": [
      "Getting length of list: \n",
      "3 0 [4, True, 'wow'] []\n",
      "\n"
     ]
    }
   ],
   "source": [
    "# list is an ordered collection, can contain any types of elements\n",
    "\n",
    "x = [4, True, 'wow']\n",
    "nothing = [] # empty list\n",
    "\n",
    "print('Getting length of list: ')\n",
    "print(len(x), len(nothing), x, nothing)\n",
    "\n",
    "print()"
   ]
  },
  {
   "cell_type": "code",
   "execution_count": null,
   "id": "0ec1ea47",
   "metadata": {},
   "outputs": [
    {
     "name": "stdout",
     "output_type": "stream",
     "text": [
      "Adding element to end of list: \n",
      "['Bob', 4, 5, False, 'Bob', 4, 5, 'Bob', 4, 5, 'Bob', 4, 5, 'Bob', 4, 5, 'Bob', 4, 5, 'Bob', 4, 5, 'Bob']\n",
      "Extending list: \n",
      "['Bob', 4, 5, False, 'Bob', 4, 5, 'Bob', 4, 5, 'Bob', 4, 5, 'Bob', 4, 5, 'Bob', 4, 5, 'Bob', 4, 5, 'Bob', 4, 5, False]\n",
      "Popping List: \n",
      "List ['Bob', 4, 5, False, 'Bob', 4, 5, 'Bob', 4, 5, 'Bob', 4, 5, 'Bob', 4, 5, 'Bob', 4, 5, 'Bob', 4, 5, 'Bob', 4, 5] Element False\n",
      "[4, 5, False, 'Bob', 4, 5, 'Bob', 4, 5, 'Bob', 4, 5, 'Bob', 4, 5, 'Bob', 4, 5, 'Bob', 4, 5, 'Bob', 4, 5] Bob\n",
      "[88, 'hello', False]\n"
     ]
    }
   ],
   "source": [
    "# adding element to end of list\n",
    "x.append('Bob')\n",
    "print('Adding element to end of list: ')\n",
    "print(x)\n",
    "\n",
    "# extending list by another list\n",
    "y = [4, 5, False]\n",
    "x.extend(y)\n",
    "print('Extending list: ')\n",
    "print(x)\n",
    "\n",
    "# remove and return last element\n",
    "popped_element = x.pop()\n",
    "print('Popping List: ')\n",
    "print('List', x, 'Element', popped_element)\n",
    "\n",
    "# removing by index (in this case first element)\n",
    "element = x.pop(0)\n",
    "print(x, element)\n",
    "\n",
    "# replacing element in list\n",
    "x = [4, 'hello', False]\n",
    "x[0] = 88\n",
    "print(x)"
   ]
  },
  {
   "cell_type": "markdown",
   "id": "ac9fcd3d",
   "metadata": {},
   "source": [
    "**Important**: lists are \"mutable\" meaning they can be changed\n",
    "- This means that x stores a reference to the list and the actual items are stored somewhere else"
   ]
  },
  {
   "cell_type": "markdown",
   "id": "0af45c71",
   "metadata": {},
   "source": []
  }
 ],
 "metadata": {
  "kernelspec": {
   "display_name": ".venv",
   "language": "python",
   "name": "python3"
  },
  "language_info": {
   "codemirror_mode": {
    "name": "ipython",
    "version": 3
   },
   "file_extension": ".py",
   "mimetype": "text/x-python",
   "name": "python",
   "nbconvert_exporter": "python",
   "pygments_lexer": "ipython3",
   "version": "3.11.3"
  }
 },
 "nbformat": 4,
 "nbformat_minor": 5
}
