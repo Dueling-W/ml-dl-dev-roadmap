{
 "cells": [
  {
   "cell_type": "markdown",
   "id": "a43aea47",
   "metadata": {},
   "source": [
    "### Notebook Topic: Python Basics Crash Course\n",
    "### Video Lecture: [Python in 75 Minutes](https://www.youtube.com/watch?v=VchuKL44s6E&t=94s)\n",
    "### Date Created: October 1st, 2025"
   ]
  },
  {
   "cell_type": "markdown",
   "id": "d7720bdb",
   "metadata": {
    "vscode": {
     "languageId": "plaintext"
    }
   },
   "source": [
    "#### Core Datatypes"
   ]
  },
  {
   "cell_type": "code",
   "execution_count": 2,
   "id": "819bab30",
   "metadata": {},
   "outputs": [],
   "source": [
    "# Data Types\n",
    "\n",
    "# int --> whole numbers\n",
    "val1 = -267236\n",
    "val2 = 76373\n",
    "\n",
    "# float --> any number with decimals \n",
    "float1 = 2727.0\n",
    "float2 = 3.14159\n",
    "\n",
    "# string --> enclosed in quotes (single or double)\n",
    "string1 = 'abc'\n",
    "string2 = \"hello world\"\n",
    "\n",
    "# can wrap quotes with the opposite quote type\n",
    "string1a = \"'abc'\"\n",
    "string2a = '\"abc\"'\n",
    "\n",
    "# bool --> only two values\n",
    "my_bool = True\n",
    "my_bool_2 = False\n"
   ]
  },
  {
   "cell_type": "markdown",
   "id": "6c417d63",
   "metadata": {},
   "source": [
    "#### Output and Printing"
   ]
  },
  {
   "cell_type": "code",
   "execution_count": 3,
   "id": "4f4e19e0",
   "metadata": {},
   "outputs": [
    {
     "name": "stdout",
     "output_type": "stream",
     "text": [
      "hello world\n",
      "4.5 hello\n",
      "hello world 87|hello world 87\n"
     ]
    }
   ],
   "source": [
    "print('hello world')\n",
    "\n",
    "# by default, places a space in-between\n",
    "print('4.5', 'hello')\n",
    "\n",
    "# denote ending\n",
    "print('hello', 'world', 87, end='|')\n",
    "\n",
    "# default is \\n, which is the next line\n",
    "print('hello', 'world', 87, end = '\\n')"
   ]
  },
  {
   "cell_type": "markdown",
   "id": "e21ef7af",
   "metadata": {},
   "source": [
    "#### Variables"
   ]
  },
  {
   "cell_type": "code",
   "execution_count": 4,
   "id": "3d8c3a23",
   "metadata": {},
   "outputs": [
    {
     "name": "stdout",
     "output_type": "stream",
     "text": [
      "will world\n",
      "no will\n"
     ]
    }
   ],
   "source": [
    "# define variables here\n",
    "hello = 'will'\n",
    "world = 'world'\n",
    "\n",
    "# program follows sequential order\n",
    "print(hello, world)\n",
    "world = hello\n",
    "hello = 'no'\n",
    "print(hello, world)"
   ]
  },
  {
   "cell_type": "code",
   "execution_count": 5,
   "id": "50cd3d08",
   "metadata": {},
   "outputs": [
    {
     "ename": "SyntaxError",
     "evalue": "invalid decimal literal (154156061.py, line 2)",
     "output_type": "error",
     "traceback": [
      "  \u001b[36mCell\u001b[39m\u001b[36m \u001b[39m\u001b[32mIn[5]\u001b[39m\u001b[32m, line 2\u001b[39m\n\u001b[31m    \u001b[39m\u001b[31m9hello #<--- this will throw an error\u001b[39m\n    ^\n\u001b[31mSyntaxError\u001b[39m\u001b[31m:\u001b[39m invalid decimal literal\n"
     ]
    }
   ],
   "source": [
    "# no special symbols (besides underscore), cannot start with a number\n",
    "9hello #<--- this will throw an error"
   ]
  },
  {
   "cell_type": "code",
   "execution_count": 6,
   "id": "db12d5ae",
   "metadata": {},
   "outputs": [],
   "source": [
    "# follow snake case, not camel case\n",
    "do_this = 5 # snake\n",
    "notThis = 5 # camel"
   ]
  },
  {
   "cell_type": "markdown",
   "id": "0bdd0094",
   "metadata": {},
   "source": [
    "#### Getting User Input"
   ]
  },
  {
   "cell_type": "code",
   "execution_count": 7,
   "id": "7511af42",
   "metadata": {},
   "outputs": [
    {
     "data": {
      "text/plain": [
       "'Will'"
      ]
     },
     "execution_count": 7,
     "metadata": {},
     "output_type": "execute_result"
    }
   ],
   "source": [
    "# must be a string in the prompt\n",
    "\n",
    "input('Name: ') # important to add the space after the colon"
   ]
  },
  {
   "cell_type": "code",
   "execution_count": 8,
   "id": "fa7badac",
   "metadata": {},
   "outputs": [
    {
     "name": "stdout",
     "output_type": "stream",
     "text": [
      "Bob\n"
     ]
    }
   ],
   "source": [
    "# store the input\n",
    "name = input('Name: ')\n",
    "print(name)"
   ]
  },
  {
   "cell_type": "markdown",
   "id": "75301633",
   "metadata": {},
   "source": [
    "#### Arithematic Operations"
   ]
  },
  {
   "cell_type": "code",
   "execution_count": 9,
   "id": "fdcba1cb",
   "metadata": {},
   "outputs": [
    {
     "name": "stdout",
     "output_type": "stream",
     "text": [
      "12.2\n",
      "28.8\n",
      "5.8\n",
      "2.8125\n"
     ]
    }
   ],
   "source": [
    "x = 9\n",
    "y = 3.2\n",
    "result = x+y\n",
    "print(result)\n",
    "result = x*y\n",
    "print(result)\n",
    "result = x-y\n",
    "print(result)\n",
    "result = x/y\n",
    "print(result)"
   ]
  },
  {
   "cell_type": "code",
   "execution_count": 10,
   "id": "e7795845",
   "metadata": {},
   "outputs": [
    {
     "name": "stdout",
     "output_type": "stream",
     "text": [
      "729\n",
      "Floor result 3 Float result 3.3333333333333335\n",
      "1\n"
     ]
    }
   ],
   "source": [
    "# exponents\n",
    "result = 9**3\n",
    "print(result)\n",
    "\n",
    "# floor division (gives the integer result of whatever the result is)\n",
    "# if answer = 3.888, then it will be 3\n",
    "result = 10//3\n",
    "print('Floor result', result, 'Float result', 10/3)\n",
    "\n",
    "# modulus (remainder)\n",
    "# 10 % 3 would be 1, since 3*3 = 9, 10-9 = 1\n",
    "print(10%3)"
   ]
  },
  {
   "cell_type": "code",
   "execution_count": 11,
   "id": "de133993",
   "metadata": {},
   "outputs": [
    {
     "ename": "TypeError",
     "evalue": "unsupported operand type(s) for -: 'str' and 'int'",
     "output_type": "error",
     "traceback": [
      "\u001b[31m---------------------------------------------------------------------------\u001b[39m",
      "\u001b[31mTypeError\u001b[39m                                 Traceback (most recent call last)",
      "\u001b[36mCell\u001b[39m\u001b[36m \u001b[39m\u001b[32mIn[11]\u001b[39m\u001b[32m, line 3\u001b[39m\n\u001b[32m      1\u001b[39m \u001b[38;5;66;03m# observe error here, input always returns a string\u001b[39;00m\n\u001b[32m      2\u001b[39m num = \u001b[38;5;28minput\u001b[39m(\u001b[33m'\u001b[39m\u001b[33mNumber: \u001b[39m\u001b[33m'\u001b[39m) \u001b[38;5;66;03m# --> str \u001b[39;00m\n\u001b[32m----> \u001b[39m\u001b[32m3\u001b[39m \u001b[38;5;28mprint\u001b[39m(\u001b[43mnum\u001b[49m\u001b[43m \u001b[49m\u001b[43m-\u001b[49m\u001b[43m \u001b[49m\u001b[32;43m5\u001b[39;49m)\n",
      "\u001b[31mTypeError\u001b[39m: unsupported operand type(s) for -: 'str' and 'int'"
     ]
    }
   ],
   "source": [
    "# observe error here, input always returns a string\n",
    "num = input('Number: ') # --> str \n",
    "print(num - 5)"
   ]
  },
  {
   "cell_type": "code",
   "execution_count": 12,
   "id": "d8fadc19",
   "metadata": {},
   "outputs": [
    {
     "name": "stdout",
     "output_type": "stream",
     "text": [
      "45\n",
      "45.0\n"
     ]
    }
   ],
   "source": [
    "# instead use int() to convert\n",
    "num = input('Number: ') # --> str \n",
    "print(int(num)-5)\n",
    "\n",
    "# float also works\n",
    "num = input('Number: ') # --> str \n",
    "print(float(num)-5)"
   ]
  },
  {
   "cell_type": "markdown",
   "id": "37bb5dcd",
   "metadata": {},
   "source": [
    "#### String Methods"
   ]
  },
  {
   "cell_type": "code",
   "execution_count": 13,
   "id": "67839760",
   "metadata": {},
   "outputs": [
    {
     "name": "stdout",
     "output_type": "stream",
     "text": [
      "HELLO\n",
      "HELLO\n",
      "hello\n",
      "Hello world\n",
      "2\n"
     ]
    }
   ],
   "source": [
    "hello = 'hello'.upper()\n",
    "print(hello)\n",
    "\n",
    "# also equivalent\n",
    "hello = 'hello'\n",
    "print(hello.upper())\n",
    "\n",
    "# lower\n",
    "hello = 'HELLO'.lower()\n",
    "print(hello)\n",
    "\n",
    "# capital\n",
    "hello = 'hEllo WorLd'\n",
    "print(hello.capitalize())\n",
    "\n",
    "# count\n",
    "hello = 'hello world'\n",
    "print(hello.count('o'))"
   ]
  },
  {
   "cell_type": "code",
   "execution_count": 14,
   "id": "8fd59fdc",
   "metadata": {},
   "outputs": [
    {
     "name": "stdout",
     "output_type": "stream",
     "text": [
      "hellohellohello\n",
      "helloyes\n"
     ]
    }
   ],
   "source": [
    "# string operations\n",
    "\n",
    "x = 'hello'\n",
    "y = 3\n",
    "print(x * y)\n",
    "\n",
    "y = 'yes' \n",
    "print(x+y) # concatenation\n"
   ]
  },
  {
   "cell_type": "markdown",
   "id": "a48f0eb8",
   "metadata": {},
   "source": [
    "#### Conditions and Conditional Operators"
   ]
  },
  {
   "cell_type": "code",
   "execution_count": 15,
   "id": "43330dc8",
   "metadata": {},
   "outputs": [
    {
     "data": {
      "text/plain": [
       "' Operators:\\n== # equality\\n!= # not equal to\\n<= # less than or equal to\\n>= # greater than or equal to \\n< # less than\\n> # greater than\\n'"
      ]
     },
     "execution_count": 15,
     "metadata": {},
     "output_type": "execute_result"
    }
   ],
   "source": [
    "True\n",
    "False\n",
    "\n",
    "\"\"\" Operators:\n",
    "== # equality\n",
    "!= # not equal to\n",
    "<= # less than or equal to\n",
    ">= # greater than or equal to \n",
    "< # less than\n",
    "> # greater than\n",
    "\"\"\""
   ]
  },
  {
   "cell_type": "code",
   "execution_count": 16,
   "id": "e3d99c65",
   "metadata": {},
   "outputs": [
    {
     "name": "stdout",
     "output_type": "stream",
     "text": [
      "True\n",
      "False\n"
     ]
    }
   ],
   "source": [
    "x = 'hello'\n",
    "y = 'hello' \n",
    "\n",
    "print(x==y)\n",
    "print(x!=y)"
   ]
  },
  {
   "cell_type": "code",
   "execution_count": 17,
   "id": "9a0f3094",
   "metadata": {},
   "outputs": [
    {
     "name": "stdout",
     "output_type": "stream",
     "text": [
      "True\n",
      "97\n",
      "90\n"
     ]
    }
   ],
   "source": [
    "# comparing strings\n",
    "\n",
    "print('a' > 'Z') \n",
    "\n",
    "# why is this true? its because of ordinal values in ASCII code\n",
    "print(ord('a'))\n",
    "print(ord('Z'))"
   ]
  },
  {
   "cell_type": "code",
   "execution_count": 18,
   "id": "d9fed06b",
   "metadata": {},
   "outputs": [
    {
     "name": "stdout",
     "output_type": "stream",
     "text": [
      "True\n"
     ]
    }
   ],
   "source": [
    "print(7.0 == 7)"
   ]
  },
  {
   "cell_type": "markdown",
   "id": "cfffc828",
   "metadata": {},
   "source": [
    "#### Chained Conditionals"
   ]
  },
  {
   "cell_type": "code",
   "execution_count": 19,
   "id": "733269a1",
   "metadata": {},
   "outputs": [
    {
     "name": "stdout",
     "output_type": "stream",
     "text": [
      "True\n",
      "False\n",
      "False\n",
      "True\n"
     ]
    }
   ],
   "source": [
    "x = 7\n",
    "y = 8\n",
    "z = 0\n",
    "\n",
    "\n",
    "result1 = x == y\n",
    "result2 = y > x \n",
    "result3 = z - 2 < x + 2 # evaluates on each side\n",
    "\n",
    "# can use and, or, not to chain conditionals\n",
    "result4 = result1 or result2 # only false if both false \n",
    "print(result4)\n",
    "\n",
    "# using not keyword\n",
    "print(not True)\n",
    "print(not (False or True)) # True turned to False\n",
    "print(not (False and True)) # False turned to True"
   ]
  },
  {
   "cell_type": "markdown",
   "id": "858b7a17",
   "metadata": {},
   "source": [
    "**Order of Operations**\n",
    "\n",
    "1. not\n",
    "2. and\n",
    "3. or"
   ]
  },
  {
   "cell_type": "code",
   "execution_count": 20,
   "id": "bf3e908b",
   "metadata": {},
   "outputs": [
    {
     "name": "stdout",
     "output_type": "stream",
     "text": [
      "False\n"
     ]
    }
   ],
   "source": [
    "# evaluate the 'and' first, then the or\n",
    "print(not (False and True or True))"
   ]
  },
  {
   "cell_type": "markdown",
   "id": "a2b3b3b6",
   "metadata": {},
   "source": [
    "#### If Else Else If"
   ]
  },
  {
   "cell_type": "code",
   "execution_count": 21,
   "id": "43aacb15",
   "metadata": {},
   "outputs": [
    {
     "name": "stdout",
     "output_type": "stream",
     "text": [
      "Hello Will\n",
      "Do this last\n"
     ]
    }
   ],
   "source": [
    "x = input('Name: ')\n",
    "\n",
    "if x == 'Will':\n",
    "    print(f'Hello {x}')\n",
    "else:\n",
    "    print('No')\n",
    "\n",
    "print('Do this last')"
   ]
  },
  {
   "cell_type": "code",
   "execution_count": 22,
   "id": "13e115bb",
   "metadata": {},
   "outputs": [
    {
     "name": "stdout",
     "output_type": "stream",
     "text": [
      "Hi Tim\n"
     ]
    }
   ],
   "source": [
    "x = input('Name: ')\n",
    "\n",
    "if x == 'Tim':\n",
    "    print('Hi Tim')\n",
    "elif x == 'Will':\n",
    "    print('Hi Will')\n",
    "else:\n",
    "    print('not valid')\n",
    "\n",
    "# always one if, one else, as many else ifs as you want"
   ]
  },
  {
   "cell_type": "markdown",
   "id": "b5d08b87",
   "metadata": {},
   "source": [
    "#### Lists and Tuples"
   ]
  },
  {
   "cell_type": "code",
   "execution_count": 23,
   "id": "aac95d2a",
   "metadata": {},
   "outputs": [
    {
     "name": "stdout",
     "output_type": "stream",
     "text": [
      "Getting length of list: \n",
      "3 0 [4, True, 'wow'] []\n",
      "\n"
     ]
    }
   ],
   "source": [
    "# list is an ordered collection, can contain any types of elements\n",
    "\n",
    "x = [4, True, 'wow']\n",
    "nothing = [] # empty list\n",
    "\n",
    "print('Getting length of list: ')\n",
    "print(len(x), len(nothing), x, nothing)\n",
    "\n",
    "print()"
   ]
  },
  {
   "cell_type": "code",
   "execution_count": null,
   "id": "0ec1ea47",
   "metadata": {},
   "outputs": [
    {
     "name": "stdout",
     "output_type": "stream",
     "text": [
      "Adding element to end of list: \n",
      "['Bob', 4, 5, False, 'Bob', 4, 5, 'Bob', 4, 5, 'Bob', 4, 5, 'Bob', 4, 5, 'Bob', 4, 5, 'Bob', 4, 5, 'Bob']\n",
      "Extending list: \n",
      "['Bob', 4, 5, False, 'Bob', 4, 5, 'Bob', 4, 5, 'Bob', 4, 5, 'Bob', 4, 5, 'Bob', 4, 5, 'Bob', 4, 5, 'Bob', 4, 5, False]\n",
      "Popping List: \n",
      "List ['Bob', 4, 5, False, 'Bob', 4, 5, 'Bob', 4, 5, 'Bob', 4, 5, 'Bob', 4, 5, 'Bob', 4, 5, 'Bob', 4, 5, 'Bob', 4, 5] Element False\n",
      "[4, 5, False, 'Bob', 4, 5, 'Bob', 4, 5, 'Bob', 4, 5, 'Bob', 4, 5, 'Bob', 4, 5, 'Bob', 4, 5, 'Bob', 4, 5] Bob\n",
      "[88, 'hello', False]\n"
     ]
    }
   ],
   "source": [
    "# adding element to end of list\n",
    "x.append('Bob')\n",
    "print('Adding element to end of list: ')\n",
    "print(x)\n",
    "\n",
    "# extending list by another list\n",
    "y = [4, 5, False]\n",
    "x.extend(y)\n",
    "print('Extending list: ')\n",
    "print(x)\n",
    "\n",
    "# remove and return last element\n",
    "popped_element = x.pop()\n",
    "print('Popping List: ')\n",
    "print('List', x, 'Element', popped_element)\n",
    "\n",
    "# removing by index (in this case first element)\n",
    "element = x.pop(0)\n",
    "print(x, element)\n",
    "\n",
    "# replacing element in list\n",
    "x = [4, 'hello', False]\n",
    "x[0] = 88\n",
    "print(x)"
   ]
  },
  {
   "cell_type": "markdown",
   "id": "ac9fcd3d",
   "metadata": {},
   "source": [
    "**Important**: lists are \"mutable\" meaning they can be changed\n",
    "- This means that x stores a reference to the list and the actual items are stored somewhere else\n",
    "- Tuples on the other hand are immutable (cannot be changed after creation)\n",
    "- This is fairly complicated, refer to \"lists-vs-tuples.md\" in Coding Theory Notes"
   ]
  },
  {
   "cell_type": "code",
   "execution_count": 3,
   "id": "17eccbc6",
   "metadata": {},
   "outputs": [
    {
     "name": "stdout",
     "output_type": "stream",
     "text": [
      "[8, True, 'hi']\n",
      "[8, True, 'hi'] [16, True, 'hi']\n"
     ]
    }
   ],
   "source": [
    "x = [4, True, 'hi']\n",
    "y = x\n",
    "y[0] = 8 # modifies x as well\n",
    "print(x)\n",
    "\n",
    "y = x[:] # creates a copy of the list instead of a pointer\n",
    "y[0] = 16 # doesn't change x\n",
    "print(x, y)"
   ]
  },
  {
   "cell_type": "code",
   "execution_count": 4,
   "id": "f47bf8b9",
   "metadata": {},
   "outputs": [
    {
     "name": "stdout",
     "output_type": "stream",
     "text": [
      "8\n"
     ]
    }
   ],
   "source": [
    "# tuples are immutable, cannot be changed\n",
    "x = (8, 5, 6)\n",
    "print(x[0])"
   ]
  },
  {
   "cell_type": "code",
   "execution_count": 5,
   "id": "f64bbe6a",
   "metadata": {},
   "outputs": [
    {
     "ename": "TypeError",
     "evalue": "'tuple' object does not support item assignment",
     "output_type": "error",
     "traceback": [
      "\u001b[0;31m---------------------------------------------------------------------------\u001b[0m",
      "\u001b[0;31mTypeError\u001b[0m                                 Traceback (most recent call last)",
      "Cell \u001b[0;32mIn[5], line 2\u001b[0m\n\u001b[1;32m      1\u001b[0m \u001b[38;5;66;03m# but if you tried..\u001b[39;00m\n\u001b[0;32m----> 2\u001b[0m x[\u001b[38;5;241m0\u001b[39m] \u001b[38;5;241m=\u001b[39m \u001b[38;5;241m5\u001b[39m\n",
      "\u001b[0;31mTypeError\u001b[0m: 'tuple' object does not support item assignment"
     ]
    }
   ],
   "source": [
    "# but if you tried..\n",
    "x[0] = 5"
   ]
  },
  {
   "cell_type": "markdown",
   "id": "5e705b2d",
   "metadata": {},
   "source": [
    "#### For Loops and While Loops"
   ]
  },
  {
   "cell_type": "code",
   "execution_count": null,
   "id": "a626025a",
   "metadata": {},
   "outputs": [
    {
     "name": "stdout",
     "output_type": "stream",
     "text": [
      "0\n",
      "1\n",
      "2\n",
      "3\n",
      "4\n",
      "5\n",
      "6\n",
      "7\n",
      "8\n",
      "9\n"
     ]
    }
   ],
   "source": [
    "for i in range(10): # only specifiying stop \n",
    "    print(i)"
   ]
  },
  {
   "cell_type": "code",
   "execution_count": null,
   "id": "d28be089",
   "metadata": {},
   "outputs": [
    {
     "name": "stdout",
     "output_type": "stream",
     "text": [
      "10\n",
      "8\n",
      "6\n",
      "4\n",
      "2\n",
      "0\n"
     ]
    }
   ],
   "source": [
    "for i in range(10, -2, -2): # specifiying start, stop, and step\n",
    "    print(i)\n",
    "\n",
    "# important to note that range doesn't include the final element"
   ]
  },
  {
   "cell_type": "code",
   "execution_count": 12,
   "id": "29c97bb7",
   "metadata": {},
   "outputs": [
    {
     "name": "stdout",
     "output_type": "stream",
     "text": [
      "0 2\n",
      "1 4\n",
      "2 6\n",
      "3 8\n"
     ]
    }
   ],
   "source": [
    "for i, ele  in enumerate([2, 4, 6, 8]): # printing the index and elements using enumerate keyword\n",
    "    print(i, ele)"
   ]
  },
  {
   "cell_type": "code",
   "execution_count": 15,
   "id": "5f27a2ca",
   "metadata": {},
   "outputs": [
    {
     "name": "stdout",
     "output_type": "stream",
     "text": [
      "running\n",
      "0\n",
      "running\n",
      "1\n",
      "running\n",
      "2\n",
      "running\n",
      "3\n",
      "running\n",
      "4\n",
      "running\n",
      "5\n",
      "running\n",
      "6\n",
      "running\n",
      "7\n",
      "running\n",
      "8\n",
      "running\n",
      "9\n",
      "Outside! 10\n"
     ]
    }
   ],
   "source": [
    "i = 0\n",
    "while i < 10:\n",
    "    print('running')\n",
    "    print(i)\n",
    "    i += 1\n",
    "\n",
    "print('Outside!', i)\n",
    "# increments i to 10, checks condition, then breaks"
   ]
  },
  {
   "cell_type": "markdown",
   "id": "5df31bd5",
   "metadata": {},
   "source": [
    "#### List Slicing"
   ]
  },
  {
   "cell_type": "code",
   "execution_count": null,
   "id": "c5c792e5",
   "metadata": {},
   "outputs": [
    {
     "name": "stdout",
     "output_type": "stream",
     "text": [
      "[0, 2]\n",
      "[2, 3, 4, 5, 6, 7, 8]\n",
      "[0, 1, 2, 3, 4, 5, 6]\n",
      "[8, 7, 6, 5, 4, 3, 2, 1, 0]\n"
     ]
    }
   ],
   "source": [
    "x = [0,1,2,3,4,5,6,7,8]\n",
    "y = ['hi', 'hello', 'goodbye', 'cya']\n",
    "\n",
    "sliced = x[0:4:2] # start, stop, step, just like with range, do not include 4\n",
    "print(sliced)\n",
    "\n",
    "# can leave blanks in start, stop, or step\n",
    "print(x[2:]) # omit ending\n",
    "print(x[:7]) # omit starting\n",
    "# if you omit step, it just goes by 1\n",
    "\n",
    "x_reverse = x[::-1] # steps by negative 1\n",
    "print(x_reverse)\n"
   ]
  },
  {
   "cell_type": "markdown",
   "id": "ebeed9f4",
   "metadata": {},
   "source": [
    "#### Sets"
   ]
  },
  {
   "cell_type": "markdown",
   "id": "fc1f4fa2",
   "metadata": {},
   "source": [
    "With sets, only care about if an item exists or doesn't exist, no duplicates are allowed\n",
    "\n",
    "Very fast, everything is done in constant time"
   ]
  },
  {
   "cell_type": "code",
   "execution_count": null,
   "id": "54d81eb4",
   "metadata": {},
   "outputs": [
    {
     "name": "stdout",
     "output_type": "stream",
     "text": [
      "{88, 34, 4}\n",
      "<class 'set'>\n",
      "{32, 2, 4}\n",
      "<class 'set'>\n",
      "<class 'dict'>\n"
     ]
    }
   ],
   "source": [
    "x = set([4, 34, 88, 4])\n",
    "print(x)\n",
    "print(type(x))\n",
    "\n",
    "# sets can also be created using {}, known as a set literal\n",
    "s = {4, 32, 2, 2}\n",
    "print(s)\n",
    "print(type(s))\n",
    "print(type({})) # empty set literal is a dictionary, not good, so if you want to create an empty set, use set() constructor"
   ]
  },
  {
   "cell_type": "code",
   "execution_count": 32,
   "id": "32d40838",
   "metadata": {},
   "outputs": [
    {
     "name": "stdout",
     "output_type": "stream",
     "text": [
      "True\n",
      "False\n",
      "{88, 34, 4, 5}\n",
      "{88, 34, 4}\n"
     ]
    }
   ],
   "source": [
    "# checking elements in a set\n",
    "\n",
    "print(4 in x)\n",
    "print(22 in x)\n",
    "\n",
    "# adding and removing\n",
    "x.add(5)\n",
    "print(x)\n",
    "x.remove(5)\n",
    "print(x)\n"
   ]
  },
  {
   "cell_type": "code",
   "execution_count": null,
   "id": "73f9587f",
   "metadata": {},
   "outputs": [
    {
     "name": "stdout",
     "output_type": "stream",
     "text": [
      "{2, 5, 22, 8, 88}\n",
      "{2, 5}\n",
      "{8}\n",
      "{88, 22}\n"
     ]
    }
   ],
   "source": [
    "# set operations\n",
    "\n",
    "s = {8, 5, 2}\n",
    "s1 = {22, 88, 5, 2}\n",
    "\n",
    "print(s.union(s1)) # all elements between sets combined\n",
    "print(s.intersection(s1)) # elements in common\n",
    "print(s.difference(s1)) # elements in set s, that aren't in s1\n",
    "print(s1.difference(s)) # elements in sset s1, that aren't in s"
   ]
  },
  {
   "cell_type": "markdown",
   "id": "12cb1261",
   "metadata": {},
   "source": [
    "#### Dictionaries"
   ]
  },
  {
   "cell_type": "code",
   "execution_count": null,
   "id": "7515aa2c",
   "metadata": {},
   "outputs": [
    {
     "name": "stdout",
     "output_type": "stream",
     "text": [
      "4\n",
      "{'key': 4, 'key2': 5}\n",
      "{'key': 4, 'key2': 5, 55: [1, 2, 3, 4]}\n"
     ]
    }
   ],
   "source": [
    "x = {'key': 4}\n",
    "print(x['key'])\n",
    "\n",
    "# dictionaries consist of key, value pairs\n",
    "# all keys must be unique\n",
    "# any valid data types are allowed for elements, even other dictionaries or lists\n",
    "\n",
    "\n",
    "x['key2'] = 5 # adding a new element\n",
    "print(x)\n",
    "x[55] = [1, 2, 3, 4] # can be integer keys, elements can be any valid type\n",
    "print(x)"
   ]
  },
  {
   "cell_type": "code",
   "execution_count": 46,
   "id": "f831c32c",
   "metadata": {},
   "outputs": [
    {
     "name": "stdout",
     "output_type": "stream",
     "text": [
      "dict_keys(['key', 'key2', 55])\n",
      "dict_values([4, 5, [1, 2, 3, 4]])\n",
      "True\n",
      "{'key': 4, 55: [1, 2, 3, 4]}\n"
     ]
    }
   ],
   "source": [
    "# dictionary operations\n",
    "\n",
    "print(x.keys())\n",
    "print(x.values())\n",
    "print(55 in x)\n",
    "del x['key2']\n",
    "print(x)"
   ]
  },
  {
   "cell_type": "code",
   "execution_count": 49,
   "id": "cfecfdd2",
   "metadata": {},
   "outputs": [
    {
     "name": "stdout",
     "output_type": "stream",
     "text": [
      "key 4\n",
      "55 [1, 2, 3, 4]\n",
      "4\n",
      "[1, 2, 3, 4]\n"
     ]
    }
   ],
   "source": [
    "# looping over dictionaries\n",
    "\n",
    "for key, value in x.items(): # key, value pairs\n",
    "    print(key, value)\n",
    "\n",
    "for key in x: # just keys\n",
    "    print(x[key]) # now print elements"
   ]
  },
  {
   "cell_type": "markdown",
   "id": "243aa635",
   "metadata": {},
   "source": [
    "### List Comprehensions"
   ]
  },
  {
   "cell_type": "code",
   "execution_count": 60,
   "id": "4b5b6df0",
   "metadata": {},
   "outputs": [
    {
     "name": "stdout",
     "output_type": "stream",
     "text": [
      "[0, 1, 2, 3, 4]\n",
      "[0, 1, 4, 9, 16, 25, 36, 49, 64, 81]\n",
      "[0, 10, 20, 30, 40, 50, 60, 70, 80, 90]\n",
      "(0, 10, 20, 30, 40, 50, 60, 70, 80, 90)\n"
     ]
    }
   ],
   "source": [
    "# define a for loop within a list\n",
    "\n",
    "y = [x for x in range(5)] # the left most element (x) is assigned to the list y\n",
    "print(y)\n",
    "\n",
    "y = [i**2 for i in range(10)] # squaring each number 0-9\n",
    "print(y)\n",
    "\n",
    "y = [i for i in range(100) if i%10==0] # adding conditions\n",
    "print(y)\n",
    "\n",
    "y = tuple(i for i in range(100) if i%10==0) # works with tuples if you use tuple constructor\n",
    "print(y)"
   ]
  },
  {
   "cell_type": "markdown",
   "id": "88d81d1c",
   "metadata": {},
   "source": [
    "#### Functions"
   ]
  },
  {
   "cell_type": "code",
   "execution_count": 66,
   "id": "6aa9c2ef",
   "metadata": {},
   "outputs": [
    {
     "name": "stdout",
     "output_type": "stream",
     "text": [
      "Run\n",
      "3200000\n"
     ]
    }
   ],
   "source": [
    "# basic definition of functions\n",
    "\n",
    "def my_func():\n",
    "    print('Run')\n",
    "\n",
    "my_func()\n",
    "\n",
    "\n",
    "# basic arguments\n",
    "def my_func(x , y):\n",
    "    print(x**y)\n",
    "\n",
    "my_func(20, 5)\n",
    "\n"
   ]
  },
  {
   "cell_type": "code",
   "execution_count": 72,
   "id": "a9189c23",
   "metadata": {},
   "outputs": [
    {
     "name": "stdout",
     "output_type": "stream",
     "text": [
      "5 10\n",
      "(9765625, 50) <class 'tuple'>\n",
      "5 8 5\n",
      "(40, 40, 25)\n",
      "5 8 16\n",
      "(40, 128, 80)\n"
     ]
    }
   ],
   "source": [
    "# returning multiple elements\n",
    "def tuple_func(x, y):\n",
    "    print(x , y)\n",
    "    return x**y, x*y\n",
    "\n",
    "result = tuple_func(5, 10)\n",
    "print(result, type(result))\n",
    "\n",
    "# default parameters\n",
    "def default_func(x, y, z=5):\n",
    "    print(x, y, z)\n",
    "    return x*y, z*y, x*z\n",
    "\n",
    "result = default_func(5, 8) # not passing in z\n",
    "print(result)\n",
    "result = default_func(5, 8, z=16) # now passing in our own z\n",
    "print(result)"
   ]
  },
  {
   "cell_type": "code",
   "execution_count": 81,
   "id": "b0627aaf",
   "metadata": {},
   "outputs": [
    {
     "name": "stdout",
     "output_type": "stream",
     "text": [
      "1231 26325 52030 56\n",
      "1 2\n",
      "8 5\n",
      "2 5\n"
     ]
    }
   ],
   "source": [
    "# *args and **kwargs\n",
    "\n",
    "# unpacking a list or tuples\n",
    "x = [1231, 26325, 52030, 56]\n",
    "print(*x) # separate each element\n",
    "\n",
    "def func(x, y):\n",
    "    print(x, y)\n",
    "\n",
    "pairs = [(1,2), (8, 5)] # list of tuples we want to pass into func\n",
    "for pair in pairs:\n",
    "    # could do pair[0] and pair[1]\n",
    "    func(*pair) # separates each pair into x and y\n",
    "\n",
    "# ** is used for a dictionary\n",
    "func(**{'y': 5, 'x': 2}) # doesn't need to be correct order, just name the elements correctly\n"
   ]
  },
  {
   "cell_type": "code",
   "execution_count": 82,
   "id": "71171d8d",
   "metadata": {},
   "outputs": [
    {
     "name": "stdout",
     "output_type": "stream",
     "text": [
      "(1, 2, 3, 4, 5, 6) {'var': 88, 'var1': 99}\n"
     ]
    }
   ],
   "source": [
    "# *args and **kwargs in function declaration\n",
    "\n",
    "# args stands for arguments\n",
    "# kwargs stands for keyword arguments, like var=88, var1='hello'\n",
    "\n",
    "# this function accepts unlimited arguments and keyword arguments\n",
    "def func(*args, **kwargs):\n",
    "    print(args, kwargs)\n",
    "\n",
    "func(1, 2, 3,4,5,6, var=88, var1= 99)"
   ]
  },
  {
   "cell_type": "code",
   "execution_count": 85,
   "id": "3fe71af5",
   "metadata": {},
   "outputs": [
    {
     "name": "stdout",
     "output_type": "stream",
     "text": [
      "1 2 3 4 5 6\n"
     ]
    },
    {
     "ename": "TypeError",
     "evalue": "'var' is an invalid keyword argument for print()",
     "output_type": "error",
     "traceback": [
      "\u001b[0;31m---------------------------------------------------------------------------\u001b[0m",
      "\u001b[0;31mTypeError\u001b[0m                                 Traceback (most recent call last)",
      "Cell \u001b[0;32mIn[85], line 11\u001b[0m\n\u001b[1;32m      8\u001b[0m \u001b[38;5;28;01mdef\u001b[39;00m \u001b[38;5;21mfunc\u001b[39m(\u001b[38;5;241m*\u001b[39margs, \u001b[38;5;241m*\u001b[39m\u001b[38;5;241m*\u001b[39mkwargs):\n\u001b[1;32m      9\u001b[0m     \u001b[38;5;28mprint\u001b[39m(\u001b[38;5;241m*\u001b[39m\u001b[38;5;241m*\u001b[39mkwargs) \u001b[38;5;66;03m# throws an error because it trys to pass var and var1 into the print function, which doesn't make sense\u001b[39;00m\n\u001b[0;32m---> 11\u001b[0m func(\u001b[38;5;241m1\u001b[39m, \u001b[38;5;241m2\u001b[39m, \u001b[38;5;241m3\u001b[39m,\u001b[38;5;241m4\u001b[39m,\u001b[38;5;241m5\u001b[39m,\u001b[38;5;241m6\u001b[39m, var\u001b[38;5;241m=\u001b[39m\u001b[38;5;241m88\u001b[39m, var1\u001b[38;5;241m=\u001b[39m \u001b[38;5;241m99\u001b[39m)\n",
      "Cell \u001b[0;32mIn[85], line 9\u001b[0m, in \u001b[0;36mfunc\u001b[0;34m(*args, **kwargs)\u001b[0m\n\u001b[1;32m      8\u001b[0m \u001b[38;5;28;01mdef\u001b[39;00m \u001b[38;5;21mfunc\u001b[39m(\u001b[38;5;241m*\u001b[39margs, \u001b[38;5;241m*\u001b[39m\u001b[38;5;241m*\u001b[39mkwargs):\n\u001b[0;32m----> 9\u001b[0m     \u001b[38;5;28mprint\u001b[39m(\u001b[38;5;241m*\u001b[39m\u001b[38;5;241m*\u001b[39mkwargs)\n",
      "\u001b[0;31mTypeError\u001b[0m: 'var' is an invalid keyword argument for print()"
     ]
    }
   ],
   "source": [
    "# unpacking elements\n",
    "\n",
    "def func(*args, **kwargs):\n",
    "    print(*args)\n",
    "\n",
    "func(1, 2, 3,4,5,6, var=88, var1= 99)\n",
    "\n",
    "def func(*args, **kwargs):\n",
    "    print(**kwargs) # throws an error because it trys to pass var and var1 into the print function, which doesn't make sense\n",
    "\n",
    "func(1, 2, 3,4,5,6, var=88, var1= 99) \n"
   ]
  },
  {
   "cell_type": "markdown",
   "id": "7e5f7beb",
   "metadata": {},
   "source": [
    "#### Exceptions"
   ]
  },
  {
   "cell_type": "code",
   "execution_count": 88,
   "id": "57d23a1f",
   "metadata": {},
   "outputs": [
    {
     "ename": "Exception",
     "evalue": "Exception!",
     "output_type": "error",
     "traceback": [
      "\u001b[0;31m---------------------------------------------------------------------------\u001b[0m",
      "\u001b[0;31mException\u001b[0m                                 Traceback (most recent call last)",
      "Cell \u001b[0;32mIn[88], line 3\u001b[0m\n\u001b[1;32m      1\u001b[0m \u001b[38;5;66;03m# raising exceptions\u001b[39;00m\n\u001b[0;32m----> 3\u001b[0m \u001b[38;5;28;01mraise\u001b[39;00m \u001b[38;5;167;01mException\u001b[39;00m(\u001b[38;5;124m'\u001b[39m\u001b[38;5;124mException!\u001b[39m\u001b[38;5;124m'\u001b[39m)\n",
      "\u001b[0;31mException\u001b[0m: Exception!"
     ]
    }
   ],
   "source": [
    "# raising exceptions\n",
    "\n",
    "raise Exception('Exception!') # creating a general exception"
   ]
  },
  {
   "cell_type": "code",
   "execution_count": 90,
   "id": "76b1a7da",
   "metadata": {},
   "outputs": [
    {
     "name": "stdout",
     "output_type": "stream",
     "text": [
      "division by zero\n",
      "finally\n"
     ]
    }
   ],
   "source": [
    "# handling exceptions\n",
    "\n",
    "try: # try first\n",
    "    x = 7/0\n",
    "except Exception as e: # store whatever the exception is in e\n",
    "    print(e)\n",
    "finally: # always executed, used for cleanup operations\n",
    "    print('finally')"
   ]
  },
  {
   "cell_type": "markdown",
   "id": "bc4f84b0",
   "metadata": {},
   "source": [
    "#### Lambdas"
   ]
  },
  {
   "cell_type": "code",
   "execution_count": 93,
   "id": "7a157fcb",
   "metadata": {},
   "outputs": [
    {
     "name": "stdout",
     "output_type": "stream",
     "text": [
      "7\n",
      "27\n"
     ]
    }
   ],
   "source": [
    "# lambdas are one-line functions\n",
    "\n",
    "x = lambda x: x +5\n",
    "print(x(2))\n",
    "\n",
    "x = lambda x, y: x +y\n",
    "print(x(2, 25))"
   ]
  },
  {
   "cell_type": "code",
   "execution_count": 101,
   "id": "da6d6c60",
   "metadata": {},
   "outputs": [
    {
     "name": "stdout",
     "output_type": "stream",
     "text": [
      "[0, 2, 4, 6, 8, 10, 12, 14, 16, 18, 20, 22, 24, 26, 28, 30, 32, 34, 36, 38, 40, 42, 44, 46, 48, 50]\n",
      "[10, 12, 14, 16, 18, 20, 22, 24, 26, 28, 30, 32, 34, 36, 38, 40, 42, 44, 46, 48, 50, 52, 54, 56, 58, 60]\n",
      "[40, 42, 44, 46, 48, 50]\n"
     ]
    }
   ],
   "source": [
    "x = list(range(0, 51, 2)) # range returns a range object, use list to convert\n",
    "print(x)\n",
    "\n",
    "mp = map(lambda i: i+10, x) # this maps every element in x to the lambda function\n",
    "print(list(mp)) # again have to convert\n",
    "\n",
    "filt = filter(lambda i: i >= 40, x) # filters apply the lambda to each element in x, checking for True or False\n",
    "print(list(filt))\n",
    "\n",
    "# can use an actual function instead of lambda, but lambda takes up less space"
   ]
  },
  {
   "cell_type": "markdown",
   "id": "f04abfc9",
   "metadata": {},
   "source": [
    "#### F-strings"
   ]
  },
  {
   "cell_type": "code",
   "execution_count": 103,
   "id": "e9d03b5f",
   "metadata": {},
   "outputs": [
    {
     "name": "stdout",
     "output_type": "stream",
     "text": [
      "hello world 73 and wow\n"
     ]
    }
   ],
   "source": [
    "x = 'wow'\n",
    "print(f'hello world {68+5} and {x}')\n",
    "\n",
    "# pretty self explanatory here"
   ]
  }
 ],
 "metadata": {
  "kernelspec": {
   "display_name": "base",
   "language": "python",
   "name": "python3"
  },
  "language_info": {
   "codemirror_mode": {
    "name": "ipython",
    "version": 3
   },
   "file_extension": ".py",
   "mimetype": "text/x-python",
   "name": "python",
   "nbconvert_exporter": "python",
   "pygments_lexer": "ipython3",
   "version": "3.12.7"
  }
 },
 "nbformat": 4,
 "nbformat_minor": 5
}
